{
 "cells": [
  {
   "cell_type": "code",
   "execution_count": 5,
   "metadata": {},
   "outputs": [],
   "source": [
    "\"\"\"\n",
    " - code a Pants class with the following attributes\n",
    " - color (string) eg 'red', 'yellow', 'orange'\n",
    " - waist_size (integer) eg 8, 9, 10, 32, 33, 34\n",
    " - length (integer) eg 27, 28, 29, 30, 31\n",
    " - price (float) eg 9.28\n",
    "\"\"\"\n",
    "class Pants:\n",
    "    \"\"\"Declare the Pants Class\"\"\" \n",
    "    def __init__(self, pants_color, pants_waist_size, pants_length,pants_price):\n",
    "        \n",
    "        \"\"\"write an __init__ function to initialize the attributes\"\"\"\n",
    "        \n",
    "        self.color = pants_color\n",
    "        self.waist_size = pants_waist_size\n",
    "        self.length = pants_length\n",
    "        self.price = pants_price\n",
    "        \n",
    "    def change_price(self, new_price):\n",
    "        \"\"\"write a change_price method:\n",
    "        Args:\n",
    "         new_price (float): the new price of the shirt\n",
    "        Returns:\n",
    "          None\"\"\"\n",
    "        self.price = new_price\n",
    "    \n",
    "    def discount(self, discount):\n",
    "        \"\"\" write a discount method:\n",
    "        Args:\n",
    "            discount (float): a decimal value for the discount. \n",
    "               For example 0.05 for a 5% discount.\n",
    "    \n",
    "        Returns:\n",
    "           float: the discounted price\"\"\"\n",
    "        return self.price * (1 - discount)"
   ]
  },
  {
   "cell_type": "markdown",
   "metadata": {},
   "source": [
    "### Test Results"
   ]
  },
  {
   "cell_type": "code",
   "execution_count": 6,
   "metadata": {},
   "outputs": [
    {
     "name": "stdout",
     "output_type": "stream",
     "text": [
      "You made it to the end of the check. Nice job!\n"
     ]
    }
   ],
   "source": [
    "def check_results():\n",
    "    pants = Pants('red', 35, 36, 15.12)\n",
    "    assert pants.color == 'red'\n",
    "    assert pants.waist_size == 35\n",
    "    assert pants.length == 36\n",
    "    assert pants.price == 15.12\n",
    "    \n",
    "    pants.change_price(10) == 10\n",
    "    assert pants.price == 10 \n",
    "    \n",
    "    assert pants.discount(.1) == 9\n",
    "    \n",
    "    print('You made it to the end of the check. Nice job!')\n",
    "\n",
    "check_results()"
   ]
  },
  {
   "cell_type": "markdown",
   "metadata": {},
   "source": [
    "### SalesPerson class\n",
    "The Pants class and Shirt class are quite similar. Here is an exercise to give you more practice writing a class. \n",
    "\n",
    "Write a SalesPerson class with the following characteristics:\n",
    "\n",
    "the class name should be SalesPerson\n",
    "the class attributes should include\n",
    "<ul>\n",
    "<li>first_name</li>\n",
    "<li>last_name</li>\n",
    "<li>employee_id</li>\n",
    "<li>salary</li>\n",
    "<li>pants_sold</li>\n",
    "<li>total_sales</li>\n",
    "</ul>\n",
    "the class should have an init function that initializes all of the attributes\n",
    "\n",
    "the class should have four methods\n",
    "<ol>\n",
    "<li>sell_pants() a method to change the price attribute</li>\n",
    "<li>calculate_sales() a method to calculate the sales</li>\n",
    "<li>display_sales() a method to print out all the pants sold with nice formatting</li>\n",
    "<li>calculate_commission() a method to calculate the salesperson commission based on total sales and a percentage</li>\n",
    "</ol>\n",
    "    "
   ]
  },
  {
   "cell_type": "code",
   "execution_count": 11,
   "metadata": {},
   "outputs": [],
   "source": [
    "class SalesPerson:\n",
    "    \"\"\"Code a SalesPerson class with the following attributes\n",
    "       - first_name (string), the first name of the salesperson\n",
    "       - last_name (string), the last name of the salesperson\n",
    "       - employee_id (int), the employee ID number like 5681923\n",
    "       - salary (float), the monthly salary of the employee\n",
    "       - pants_sold (list of Pants objects), \n",
    "           pants that the salesperson has sold \n",
    "       - total_sales (float), sum of sales of pants sold\n",
    "\"\"\"\n",
    "    def __init__(self, sp_first_name, sp_last_name, sp_employee_id, sp_salary):\n",
    "        \"\"\"Declare the SalesPerson Class\"\"\"\n",
    "        self.first_name = sp_first_name\n",
    "        self.last_name = sp_last_name\n",
    "        self.employee_id = sp_employee_id\n",
    "        self.salary = sp_salary\n",
    "        \n",
    "        self.pants_sold = []\n",
    "        self.total_sales = 0\n",
    "        \n",
    "    def sell_pants(self, pants):\n",
    "        \"\"\"write an __init__ function to initialize the attributes\n",
    "           Input Args for the __init__ function:\n",
    "            first_name (str)\n",
    "            last_name (str)\n",
    "            employee_id (int)\n",
    "            salary (float)\n",
    "\n",
    "        You can initialize pants_sold as an empty list\n",
    "        You can initialize total_sales to zero.\n",
    "        \"\"\"\n",
    "        self.pants_sold.append(pants)\n",
    "    \n",
    "    def display_sales(self):\n",
    "        \"\"\"write a sell_pants method:\n",
    "\n",
    "        This method receives a Pants object and appends\n",
    "        the object to the pants_sold attribute list\n",
    "\n",
    "        Args:\n",
    "            pants (Pants object): a pants object\n",
    "        Returns:\n",
    "        None\"\"\"\n",
    "        for pant in self.pants_sold:\n",
    "            print(pant)\n",
    "            \n",
    "    def calculate_sales(self):\n",
    "        \"\"\"write a display_sales method:\n",
    "    \n",
    "        This method has no input or outputs. When this method \n",
    "        is called, the code iterates through the pants_sold list\n",
    "        and prints out the characteristics of each pair of pants\n",
    "        line by line. The print out should look something like this\n",
    "\n",
    "        color: blue, waist_size: 34, length: 34, price: 10\n",
    "        color: red, waist_size: 36, length: 30, price: 14.15\"\"\"\n",
    "        for pant in self.pants_sold:\n",
    "            self.total_sales += pant.price\n",
    "        return self.total_sales    \n",
    "    \n",
    "    def calculate_commission(self, percentage):\n",
    "        \n",
    "        \"\"\" write a calculate_commission method:\n",
    "\n",
    "         The salesperson receives a commission based on the total\n",
    "         sales of pants. The method receives a percentage, and then\n",
    "         calculate the total sales of pants based on the price,\n",
    "         and then returns the commission as (percentage * total sales)\n",
    "\n",
    "         Args:\n",
    "               percentage (float): comission percentage as a decimal\n",
    "\n",
    "         Returns:\n",
    "             float: total commission\"\"\"\n",
    "        total_commission = percentage * self.total_sales\n",
    "        return total_commission\n"
   ]
  },
  {
   "cell_type": "markdown",
   "metadata": {},
   "source": [
    "### Test Results"
   ]
  },
  {
   "cell_type": "code",
   "execution_count": 12,
   "metadata": {},
   "outputs": [
    {
     "name": "stdout",
     "output_type": "stream",
     "text": [
      "Great job, you made it to the end of the code checks!\n"
     ]
    }
   ],
   "source": [
    "def check_results():\n",
    "    pants_one = Pants('red', 35, 36, 15.12)\n",
    "    pants_two = Pants('blue', 40, 38, 24.12)\n",
    "    pants_three = Pants('tan', 28, 30, 8.12)\n",
    "    \n",
    "    salesperson = SalesPerson('Amy', 'Gonzalez', 2581923, 40000)\n",
    "    \n",
    "    assert salesperson.first_name == 'Amy'\n",
    "    assert salesperson.last_name == 'Gonzalez'\n",
    "    assert salesperson.employee_id == 2581923\n",
    "    assert salesperson.salary == 40000\n",
    "    assert salesperson.pants_sold == []\n",
    "    assert salesperson.total_sales == 0\n",
    "    \n",
    "    salesperson.sell_pants(pants_one)\n",
    "    salesperson.pants_sold[0] == pants_one.color\n",
    "    \n",
    "    salesperson.sell_pants(pants_two)\n",
    "    salesperson.sell_pants(pants_three)\n",
    "    \n",
    "    assert len(salesperson.pants_sold) == 3\n",
    "    assert round(salesperson.calculate_sales(),2) == 47.36\n",
    "    assert round(salesperson.calculate_commission(.1),2) == 4.74\n",
    "    \n",
    "    print('Great job, you made it to the end of the code checks!')\n",
    "    \n",
    "check_results()"
   ]
  },
  {
   "cell_type": "code",
   "execution_count": null,
   "metadata": {},
   "outputs": [],
   "source": []
  }
 ],
 "metadata": {
  "kernelspec": {
   "display_name": "Python 3",
   "language": "python",
   "name": "python3"
  },
  "language_info": {
   "codemirror_mode": {
    "name": "ipython",
    "version": 3
   },
   "file_extension": ".py",
   "mimetype": "text/x-python",
   "name": "python",
   "nbconvert_exporter": "python",
   "pygments_lexer": "ipython3",
   "version": "3.7.4"
  }
 },
 "nbformat": 4,
 "nbformat_minor": 4
}
